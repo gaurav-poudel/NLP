{
 "cells": [
  {
   "cell_type": "code",
   "execution_count": 1,
   "id": "b8da6d69",
   "metadata": {},
   "outputs": [],
   "source": [
    "import nltk\n",
    "from nltk.tokenize import RegexpTokenizer\n",
    "from nltk.stem import WordNetLemmatizer,PorterStemmer\n",
    "from nltk.corpus import stopwords\n",
    "import re\n",
    "lemmatizer = WordNetLemmatizer()\n",
    "stemmer = PorterStemmer() "
   ]
  },
  {
   "cell_type": "code",
   "execution_count": 53,
   "id": "81c07cbc",
   "metadata": {},
   "outputs": [],
   "source": [
    "def cleaner(sentence):\n",
    "    sentence = str(sentence)\n",
    "    \n",
    "    #cleanr = re.compile('[ ]')\n",
    "    \n",
    "    #cleantext = re.sub(cleanr, '', sentence)\n",
    "    \n",
    "    rem_url = re.sub(r'http\\S+', '',sentence)\n",
    "    \n",
    "    #rem_number = re.sub('[0-9]+', '', rem_url)\n",
    "    \n",
    "    rem_symbols = re.sub(r'[^\\w\\s ]','',rem_url)\n",
    "    \n",
    "    #remove_sym = re.sub('[]','',rem_symbols)\n",
    "    \n",
    "    return rem_symbols\n"
   ]
  },
  {
   "cell_type": "code",
   "execution_count": 62,
   "id": "14d4ab0c",
   "metadata": {},
   "outputs": [
    {
     "data": {
      "text/plain": [
       "'Confederate Colonel John Pemberton wounded in the American Civil War and addicted to morphine also had a medical degree and began a quest to find a substitute for the problematic drug6 In 1885 at Pembertons Eagle Drug and Chemical House his drugstore in Columbus Georgia he registered Pembertons French Wine Coca nerve tonic78910 Pembertons tonic may have been inspired by the formidable success of Vin Mariani a FrenchCorsican coca wine11 but his recipe additionally included the African kola nut the beverages source of caffeine12It is also worth noting that a Spanish drink called Kola Coca was presented at a contest in Philadelphia in 1885 a year before the official birth of CocaCola The rights for this Spanish drink were bought by CocaCola in 195313In 1886 when Atlanta and Fulton County passed prohibition legislation Pemberton responded by developing CocaCola a nonalcoholic version of Pembertons French Wine Coca14 It was marketed as CocaCola The temperance drink which appealed to many people as the temperance movement enjoyed wide support during this time1 The first sales were at Jacobs Pharmacy in Atlanta Georgia on May 8 188615 where it initially sold for five cents a glass16 Drugstore soda fountains were popular in the United States at the time due to the belief that carbonated water was good for the health17 and Pembertons new drink was marketed and sold as a patent medicine Pemberton claiming it a cure for many diseases including morphine addiction indigestion nerve disorders headaches and impotence Pemberton ran the first advertisement for the beverage on May 29 of the same year in the Atlanta Journal18By 1888 three versions of CocaCola  sold by three separate businesses  were on the market A copartnership had been formed on January 14 1888 between Pemberton and four Atlanta businessmen JC Mayfield AO Murphey CO Mullahy and EH Bloodworth Not codified by any signed document a verbal statement given by Asa Candler years later asserted under testimony that he had acquired a stake in Pembertons company as early as 188719 John Pemberton declared that the name CocaCola belonged to his son Charley but the other two manufacturers could continue to use the formula20Charley Pembertons record of control over the CocaCola name was the underlying factor that allowed for him to participate as a major shareholder in the March 1888 CocaCola Company incorporation filing made in his fathers place21 Charleys exclusive control over the CocaCola name became a continual thorn in Asa Candlers side Candlers oldest son Charles Howard Candler authored a book in 1950 published by Emory University In this definitive biography about his father Candler specifically states  on April 14 1888 the young druggist Asa Griggs Candler purchased a onethird interest in the formula of an almost completely unknown proprietary elixir known as CocaCola22 The deal was actually between John Pembertons son Charley and Walker Candler  Co  with John Pemberton acting as cosigner for his son For 50 down and 500 in 30 days Walker Candler  Co obtained all of the onethird interest in the CocaCola Company that Charley held all while Charley still held on to the name After the April 14 deal on April 17 1888 onehalf of the WalkerDozier interest shares were acquired by Candler for an additional 75023'"
      ]
     },
     "execution_count": 62,
     "metadata": {},
     "output_type": "execute_result"
    }
   ],
   "source": [
    "cleaner('Confederate Colonel John Pemberton, wounded in the American Civil War and addicted to morphine, also had a medical degree and began a quest to find a substitute for the problematic drug.[6] In 1885 at Pembertons Eagle Drug and Chemical House, his drugstore in Columbus, Georgia, he registered Pembertons French Wine Coca nerve tonic.[7][8][9][10] Pembertons tonic may have been inspired by the formidable success of Vin Mariani, a French-Corsican coca wine,[11] but his recipe additionally included the African kola nut, the beverages source of caffeine.[12]It is also worth noting that a Spanish drink called \"Kola Coca\" was presented at a contest in Philadelphia in 1885, a year before the official birth of Coca-Cola. The rights for this Spanish drink were bought by Coca-Cola in 1953.[13]In 1886, when Atlanta and Fulton County passed prohibition legislation, Pemberton responded by developing Coca-Cola, a nonalcoholic version of Pembertons French Wine Coca.[14] It was marketed as \"Coca-Cola: The temperance drink, which appealed to many people as the temperance movement enjoyed wide support during this time.[1] The first sales were at Jacobs Pharmacy in Atlanta, Georgia, on May 8, 1886,[15] where it initially sold for five cents a glass.[16] Drugstore soda fountains were popular in the United States at the time due to the belief that carbonated water was good for the health,[17] and Pembertons new drink was marketed and sold as a patent medicine, Pemberton claiming it a cure for many diseases, including morphine addiction, indigestion, nerve disorders, headaches, and impotence. Pemberton ran the first advertisement for the beverage on May 29 of the same year in the Atlanta Journal.[18]By 1888, three versions of Coca-Cola – sold by three separate businesses – were on the market. A co-partnership had been formed on January 14, 1888, between Pemberton and four Atlanta businessmen: J.C. Mayfield, A.O. Murphey, C.O. Mullahy, and E.H. Bloodworth. Not codified by any signed document, a verbal statement given by Asa Candler years later asserted under testimony that he had acquired a stake in Pembertons company as early as 1887.[19] John Pemberton declared that the name \"Coca-Cola\" belonged to his son, Charley, but the other two manufacturers could continue to use the formula.[20]Charley Pembertons record of control over the \"Coca-Cola\" name was the underlying factor that allowed for him to participate as a major shareholder in the March 1888 Coca-Cola Company incorporation filing made in his fathers place.[21] Charleys exclusive control over the \"Coca-Cola\" name became a continual thorn in Asa Candlers side. Candlers oldest son, Charles Howard Candler, authored a book in 1950 published by Emory University. In this definitive biography about his father, Candler specifically states:  on April 14, 1888, the young druggist Asa Griggs Candler purchased a one-third interest in the formula of an almost completely unknown proprietary elixir known as Coca-Cola.[22] The deal was actually between John Pembertons son Charley and Walker, Candler & Co. – with John Pemberton acting as cosigner for his son. For $50 down and $500 in 30 days, Walker, Candler & Co. obtained all of the one-third interest in the Coca-Cola Company that Charley held, all while Charley still held on to the name. After the April 14 deal, on April 17, 1888, one-half of the Walker/Dozier interest shares were acquired by Candler for an additional $750.[23]')"
   ]
  },
  {
   "cell_type": "code",
   "execution_count": null,
   "id": "571719e1",
   "metadata": {},
   "outputs": [],
   "source": []
  }
 ],
 "metadata": {
  "kernelspec": {
   "display_name": "Python 3",
   "language": "python",
   "name": "python3"
  },
  "language_info": {
   "codemirror_mode": {
    "name": "ipython",
    "version": 3
   },
   "file_extension": ".py",
   "mimetype": "text/x-python",
   "name": "python",
   "nbconvert_exporter": "python",
   "pygments_lexer": "ipython3",
   "version": "3.8.8"
  }
 },
 "nbformat": 4,
 "nbformat_minor": 5
}
